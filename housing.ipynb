{
 "cells": [
  {
   "cell_type": "code",
   "execution_count": 2,
   "id": "de4c7c68",
   "metadata": {},
   "outputs": [
    {
     "name": "stdout",
     "output_type": "stream",
     "text": [
      "Predicted House Values:\n",
      "[194396.9708832  238526.82203164 198562.30656806 197192.78393233\n",
      " 199697.662121  ]\n",
      "Mean Absolute Error (MAE): 89931.67504919827\n",
      "Root Mean Squared Error (RMSE): 114349.7403659444\n",
      "R-squared (R²): 0.017997057943996753\n"
     ]
    },
    {
     "data": {
      "text/plain": [
       "['scaler.pkl']"
      ]
     },
     "execution_count": 2,
     "metadata": {},
     "output_type": "execute_result"
    }
   ],
   "source": [
    "import pandas as pd\n",
    "from sklearn.linear_model import LinearRegression\n",
    "from sklearn.metrics import mean_absolute_error, mean_squared_error, r2_score\n",
    "from sklearn.preprocessing import StandardScaler\n",
    "import numpy as np\n",
    "import joblib\n",
    "df = pd.read_csv('housing.csv')\n",
    "# Independent variable\n",
    "X = df[['total_rooms']]\n",
    "# Dependent variable\n",
    "y = df['median_house_value']\n",
    "\n",
    "# Scale the independent variable\n",
    "scaler = StandardScaler()\n",
    "X_scaled = scaler.fit_transform(X)\n",
    "\n",
    "# Initialize the model\n",
    "model = LinearRegression()\n",
    "# Train the model\n",
    "model.fit(X_scaled, y)\n",
    "\n",
    "# Make predictions\n",
    "y_pred = model.predict(X_scaled)\n",
    "# Display the first few predicted values\n",
    "print(\"Predicted House Values:\")\n",
    "print(y_pred[:5])\n",
    "\n",
    "# Calculate evaluation metrics\n",
    "mae = mean_absolute_error(y, y_pred)\n",
    "rmse = np.sqrt(mean_squared_error(y, y_pred))\n",
    "r2 = r2_score(y, y_pred)\n",
    "\n",
    "# Print the results\n",
    "print(\"Mean Absolute Error (MAE):\", mae)\n",
    "print(\"Root Mean Squared Error (RMSE):\", rmse)\n",
    "print(\"R-squared (R²):\", r2)\n",
    "\n",
    "joblib.dump(model, \"house_model.pkl\")\n",
    "joblib.dump(scaler, \"scaler.pkl\")"
   ]
  }
 ],
 "metadata": {
  "kernelspec": {
   "display_name": "Python 3",
   "language": "python",
   "name": "python3"
  },
  "language_info": {
   "codemirror_mode": {
    "name": "ipython",
    "version": 3
   },
   "file_extension": ".py",
   "mimetype": "text/x-python",
   "name": "python",
   "nbconvert_exporter": "python",
   "pygments_lexer": "ipython3",
   "version": "3.11.9"
  }
 },
 "nbformat": 4,
 "nbformat_minor": 5
}
